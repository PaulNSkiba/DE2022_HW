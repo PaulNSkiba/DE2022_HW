{
 "cells": [
  {
   "cell_type": "code",
   "execution_count": 1,
   "metadata": {
    "tags": []
   },
   "outputs": [],
   "source": [
    "from pyspark.sql import SparkSession, functions as f, types as t"
   ]
  },
  {
   "cell_type": "code",
   "execution_count": 2,
   "metadata": {
    "collapsed": false,
    "jupyter": {
     "outputs_hidden": false
    }
   },
   "outputs": [],
   "source": [
    "spark = SparkSession.builder.appName('lect_13_home_task').getOrCreate()"
   ]
  },
  {
   "cell_type": "code",
   "execution_count": 3,
   "metadata": {
    "collapsed": false,
    "jupyter": {
     "outputs_hidden": false
    }
   },
   "outputs": [],
   "source": [
    "actor_df = spark.read.csv('./data/actor.csv', header=True, inferSchema=True)\n",
    "address_df = spark.read.csv('./data/address.csv', header=True, inferSchema=True)\n",
    "category_df = spark.read.csv('./data/category.csv', header=True, inferSchema=True)\n",
    "city_df = spark.read.csv('./data/city.csv', header=True, inferSchema=True)\n",
    "country_df = spark.read.csv('./data/country.csv', header=True, inferSchema=True)\n",
    "customer_df = spark.read.csv('./data/customer.csv', header=True, inferSchema=True)\n",
    "film_df = spark.read.csv('./data/film.csv', header=True, inferSchema=True)\n",
    "film_actor_df = spark.read.csv('./data/film_actor.csv', header=True, inferSchema=True)\n",
    "film_category_df = spark.read.csv('./data/film_category.csv', header=True, inferSchema=True)\n",
    "inventory_df = spark.read.csv('./data/inventory.csv', header=True, inferSchema=True)\n",
    "language_df = spark.read.csv('./data/language.csv', header=True, inferSchema=True)\n",
    "payment_df = spark.read.csv('./data/payment.csv', header=True, inferSchema=True)\n",
    "rental_df = spark.read.csv('./data/rental.csv', header=True, inferSchema=True)\n",
    "staff_df = spark.read.csv('./data/staff.csv', header=True, inferSchema=True)\n",
    "store_df = spark.read.csv('./data/store.csv', header=True, inferSchema=True)"
   ]
  },
  {
   "cell_type": "markdown",
   "metadata": {},
   "source": [
    "# Домашнє завдання на тему Spark SQL\n",
    "\n",
    "Задачі з домашнього завдання на SQL потрібно розвʼязати за допомогою Spark SQL DataFrame API.\n",
    "\n",
    "- Дампи таблиць знаходяться в папці `data`. Датафрейми таблиць вже створені в клітинці вище.\n",
    "- Можете створювати стільки нових клітинок, скільки вам необхідно.\n",
    "- Розвʼязок кожної задачі має бути відображений в самому файлі (використати метод `.show()`)\n",
    "\n",
    "**Увага!**\n",
    "Використовувати мову запитів SQL безпосередньо забороняється, потрібно використовувати виключно DataFrame API!\n"
   ]
  },
  {
   "cell_type": "markdown",
   "metadata": {},
   "source": [
    "1.\n",
    "Вивести кількість фільмів в кожній категорії.\n",
    "Результат відсортувати за спаданням."
   ]
  },
  {
   "cell_type": "code",
   "execution_count": 55,
   "metadata": {},
   "outputs": [
    {
     "name": "stdout",
     "output_type": "stream",
     "text": [
      "+-----------+---+\n",
      "|       name|cnt|\n",
      "+-----------+---+\n",
      "|    Foreign| 73|\n",
      "|     Sports| 74|\n",
      "|      Drama| 62|\n",
      "|Documentary| 68|\n",
      "|     Travel| 57|\n",
      "|     Family| 69|\n",
      "|      Games| 61|\n",
      "|   Classics| 57|\n",
      "|  Animation| 66|\n",
      "|      Music| 51|\n",
      "|     Horror| 56|\n",
      "|        New| 63|\n",
      "|     Comedy| 58|\n",
      "|   Children| 60|\n",
      "|     Action| 64|\n",
      "|     Sci-Fi| 61|\n",
      "+-----------+---+\n",
      "\n"
     ]
    }
   ],
   "source": [
    "# SELECT \tc.\"name\" , count(*) cnt\n",
    "# FROM\tpublic.film_category fc \n",
    "#\t\tJOIN public.film f ON fc.film_id = f.film_id \n",
    "#\t\tJOIN public.category c ON fc.category_id = c.category_id \n",
    "#GROUP BY c.\"name\" \t\t\n",
    "#ORDER BY cnt DESC; \n",
    "df = film_category_df  \\\n",
    "    .join(film_df, film_df.film_id==film_category_df.film_id)  \\\n",
    "    .join(category_df, category_df.category_id==film_category_df.category_id)  \\\n",
    "    .select(category_df.name)  \\\n",
    "    .groupBy(category_df.name)  \\\n",
    "    .count()  \\\n",
    "    .withColumnRenamed(\"count\",\"cnt\")\n",
    "df.show();\n"
   ]
  },
  {
   "cell_type": "markdown",
   "metadata": {},
   "source": [
    "2.\n",
    "Вивести 10 акторів, чиї фільми брали на прокат найбільше.\n",
    "Результат відсортувати за спаданням."
   ]
  },
  {
   "cell_type": "code",
   "execution_count": 56,
   "metadata": {
    "collapsed": false,
    "jupyter": {
     "outputs_hidden": false
    }
   },
   "outputs": [
    {
     "name": "stdout",
     "output_type": "stream",
     "text": [
      "+----------+-----------+---+\n",
      "|first_name|  last_name|cnt|\n",
      "+----------+-----------+---+\n",
      "|     SUSAN|      DAVIS|825|\n",
      "|      GINA|  DEGENERES|753|\n",
      "|   MATTHEW|     CARREY|678|\n",
      "|      MARY|     KEITEL|674|\n",
      "|    ANGELA|WITHERSPOON|654|\n",
      "|    WALTER|       TORN|640|\n",
      "|     HENRY|      BERRY|612|\n",
      "|     JAYNE|      NOLTE|611|\n",
      "|       VAL|     BOLGER|605|\n",
      "|    SANDRA|     KILMER|604|\n",
      "+----------+-----------+---+\n",
      "only showing top 10 rows\n",
      "\n"
     ]
    }
   ],
   "source": [
    "#SELECT \ta.first_name, a.last_name, COUNT(*) cnt\n",
    "#FROM \tpublic.actor a \n",
    "#\t\tJOIN public.film_actor fa ON a.actor_id = fa.actor_id \n",
    "#\t\tJOIN public.inventory i ON i.film_id = fa.film_id \n",
    "#\t\tJOIN public.rental r ON r.inventory_id = i.inventory_id \n",
    "#GROUP BY a.first_name, a.last_name\n",
    "#ORDER BY cnt DESC\n",
    "#LIMIT 10;\n",
    "df = actor_df  \\\n",
    "        .join(film_actor_df, actor_df.actor_id==film_actor_df.actor_id)  \\\n",
    "        .join(inventory_df, inventory_df.film_id==film_actor_df.film_id)  \\\n",
    "        .join(rental_df, rental_df.inventory_id==inventory_df.inventory_id)  \\\n",
    "        .select(actor_df.first_name, actor_df.last_name)  \\\n",
    "        .groupBy(actor_df.first_name, actor_df.last_name)  \\\n",
    "        .count().withColumnRenamed(\"count\",\"cnt\")  \\\n",
    "        .orderBy(f.col(\"cnt\").desc())\n",
    "df.show(10);"
   ]
  },
  {
   "cell_type": "markdown",
   "metadata": {},
   "source": [
    "3.\n",
    "Вивести категорія фільмів, на яку було витрачено найбільше грошей\n",
    "в прокаті"
   ]
  },
  {
   "cell_type": "code",
   "execution_count": 133,
   "metadata": {
    "collapsed": false,
    "jupyter": {
     "outputs_hidden": false
    }
   },
   "outputs": [
    {
     "name": "stdout",
     "output_type": "stream",
     "text": [
      "+------+\n",
      "|  name|\n",
      "+------+\n",
      "|Sports|\n",
      "+------+\n",
      "only showing top 1 row\n",
      "\n"
     ]
    }
   ],
   "source": [
    "#SELECT \tcategory \n",
    "#FROM \tpublic.sales_by_film_category sbfc \n",
    "#ORDER BY total_sales DESC\n",
    "#LIMIT 1;\n",
    "#SELECT c.name AS category,\n",
    "#    sum(p.amount) AS total_sales\n",
    "#   FROM payment p\n",
    "#     JOIN rental r ON p.rental_id = r.rental_id\n",
    "#     JOIN inventory i ON r.inventory_id = i.inventory_id\n",
    "#     JOIN film f ON i.film_id = f.film_id\n",
    "#     JOIN film_category fc ON f.film_id = fc.film_id\n",
    "#     JOIN category c ON fc.category_id = c.category_id\n",
    "#  GROUP BY c.name\n",
    "#  ORDER BY (sum(p.amount)) DESC;\n",
    "df = payment_df  \\\n",
    "    .join(rental_df, payment_df.rental_id==rental_df.rental_id)  \\\n",
    "    .join(inventory_df, rental_df.inventory_id==inventory_df.inventory_id)  \\\n",
    "    .join(film_df, inventory_df.film_id==film_df.film_id)  \\\n",
    "    .join(film_category_df, film_df.film_id==film_category_df.film_id)  \\\n",
    "    .join(category_df, film_category_df.category_id==category_df.category_id)  \\\n",
    "    .select(category_df.name, payment_df.amount) \n",
    "\n",
    "df_sum = df.groupBy(\"name\").sum(\"amount\").orderBy(f.col(\"sum(amount)\").desc())\n",
    "df_sum.select(\"name\").show(1)"
   ]
  },
  {
   "cell_type": "markdown",
   "metadata": {},
   "source": [
    "4.\n",
    "Вивести назви фільмів, яких не має в inventory.\n",
    "Запит має бути без оператора IN"
   ]
  },
  {
   "cell_type": "code",
   "execution_count": 139,
   "metadata": {
    "collapsed": false,
    "jupyter": {
     "outputs_hidden": false
    }
   },
   "outputs": [
    {
     "name": "stdout",
     "output_type": "stream",
     "text": [
      "+--------------------+\n",
      "|               title|\n",
      "+--------------------+\n",
      "|      ALICE FANTASIA|\n",
      "|         APOLLO TEEN|\n",
      "|      ARGONAUTS TOWN|\n",
      "|       ARK RIDGEMONT|\n",
      "|ARSENIC INDEPENDENCE|\n",
      "|   BOONDOCK BALLROOM|\n",
      "|       BUTCH PANTHER|\n",
      "|       CATCH AMISTAD|\n",
      "| CHINATOWN GLADIATOR|\n",
      "|      CHOCOLATE DUCK|\n",
      "|COMMANDMENTS EXPRESS|\n",
      "|    CROSSING DIVORCE|\n",
      "|     CROWDS TELEMARK|\n",
      "|    CRYSTAL BREAKING|\n",
      "|          DAZED PUNK|\n",
      "|DELIVERANCE MULHO...|\n",
      "|   FIREHOUSE VIETNAM|\n",
      "|       FLOATS GARDEN|\n",
      "|FRANKENSTEIN STRA...|\n",
      "|  GLADIATOR WESTWARD|\n",
      "|           GUMP DATE|\n",
      "|       HATE HANDICAP|\n",
      "|         HOCUS FRIDA|\n",
      "|    KENTUCKIAN GIANT|\n",
      "|    KILL BROTHERHOOD|\n",
      "|         MUPPET MILE|\n",
      "|      ORDER BETRAYED|\n",
      "|       PEARL DESTINY|\n",
      "|     PERDITION FARGO|\n",
      "|       PSYCHO SHRUNK|\n",
      "|   RAIDERS ANTITRUST|\n",
      "|       RAINBOW SHOCK|\n",
      "|       ROOF CHAMPION|\n",
      "|       SISTER FREDDY|\n",
      "|         SKY MIRACLE|\n",
      "|    SUICIDES SILENCE|\n",
      "|        TADPOLE PARK|\n",
      "|    TREASURE COMMAND|\n",
      "|   VILLAIN DESPERATE|\n",
      "|        VOLUME HOUSE|\n",
      "|           WAKE JAWS|\n",
      "|        WALLS ARTIST|\n",
      "+--------------------+\n",
      "\n"
     ]
    }
   ],
   "source": [
    "#SELECT \tf.title \n",
    "#FROM \tpublic.film f \n",
    "#\t\tLEFT JOIN public.inventory i ON f.film_id = i.film_id \n",
    "#WHERE \ti.film_id IS null; \n",
    "df = film_df  \\\n",
    "    .join(inventory_df, film_df.film_id==inventory_df.film_id, \"LEFT\")  \\\n",
    "    .select(film_df.title)  \\\n",
    "    .where(inventory_df.film_id.isNull())\n",
    "df.show()"
   ]
  },
  {
   "cell_type": "markdown",
   "metadata": {},
   "source": [
    "5.\n",
    "Вивести топ 3 актори, які найбільше зʼявлялись в категорії фільмів “Children”"
   ]
  },
  {
   "cell_type": "code",
   "execution_count": 142,
   "metadata": {
    "collapsed": false,
    "jupyter": {
     "outputs_hidden": false
    }
   },
   "outputs": [
    {
     "name": "stdout",
     "output_type": "stream",
     "text": [
      "+----------+---------+---+\n",
      "|first_name|last_name|cnt|\n",
      "+----------+---------+---+\n",
      "|     HELEN|   VOIGHT|  7|\n",
      "|     SUSAN|    DAVIS|  6|\n",
      "|     KEVIN|  GARLAND|  5|\n",
      "+----------+---------+---+\n",
      "only showing top 3 rows\n",
      "\n"
     ]
    }
   ],
   "source": [
    "#SELECT \ta.first_name, a.last_name, count(fc.*) cnt\n",
    "#FROM \tpublic.actor a \n",
    "#\t\tJOIN public.film_actor fa ON a.actor_id = fa.actor_id \n",
    "#\t\tJOIN public.film_category fc ON fa.film_id = fc.film_id \n",
    "#\t\tJOIN public.category c ON c.category_id = fc.category_id \n",
    "#WHERE\tc.\"name\" = 'Children'\t\n",
    "#GROUP BY a.first_name, a.last_name\n",
    "#ORDER BY cnt DESC\n",
    "#LIMIT 3;\t\n",
    "df = actor_df  \\\n",
    "    .join(film_actor_df, actor_df.actor_id==film_actor_df.actor_id)  \\\n",
    "    .join(film_category_df, film_actor_df.film_id==film_category_df.film_id) \\\n",
    "    .join(category_df, film_category_df.category_id==category_df.category_id) \\\n",
    "    .select(actor_df.first_name, actor_df.last_name)  \\\n",
    "    .where(category_df.name == \"Children\")   \\\n",
    "    .groupBy(actor_df.first_name, actor_df.last_name)  \\\n",
    "    .count().withColumnRenamed(\"count\",\"cnt\")  \\\n",
    "    .orderBy(f.col(\"cnt\").desc())    \n",
    "df.show(3)"
   ]
  },
  {
   "cell_type": "markdown",
   "metadata": {},
   "source": [
    "6.\n",
    "Вивести міста з кількістю активних та неактивних клієнтів\n",
    "(в активних customer.active = 1).\n",
    "Результат відсортувати за кількістю неактивних клієнтів за спаданням."
   ]
  },
  {
   "cell_type": "code",
   "execution_count": 173,
   "metadata": {
    "collapsed": false,
    "jupyter": {
     "outputs_hidden": false
    }
   },
   "outputs": [
    {
     "name": "stdout",
     "output_type": "stream",
     "text": [
      "+------------------+------------------------+--------------------+\n",
      "|              city|sum(not_active_customer)|sum(active_customer)|\n",
      "+------------------+------------------------+--------------------+\n",
      "|         Pingxiang|                       1|                   0|\n",
      "|       Szkesfehrvr|                       1|                   0|\n",
      "|  Charlotte Amalie|                       1|                   0|\n",
      "|         Najafabad|                       1|                   0|\n",
      "|           Wroclaw|                       1|                   0|\n",
      "|            Ktahya|                       1|                   0|\n",
      "|   Southend-on-Sea|                       1|                   0|\n",
      "|           Bat Yam|                       1|                   0|\n",
      "|            Amroha|                       1|                   0|\n",
      "|            Kamyin|                       1|                   0|\n",
      "|          Xiangfan|                       1|                   0|\n",
      "|            Daxian|                       1|                   0|\n",
      "|          Uluberia|                       1|                   0|\n",
      "|     Coatzacoalcos|                       1|                   0|\n",
      "|        Kumbakonam|                       1|                   0|\n",
      "|A Corua (La Corua)|                       0|                   1|\n",
      "|          Fengshan|                       0|                   1|\n",
      "|          Myingyan|                       0|                   1|\n",
      "|              Linz|                       0|                   1|\n",
      "|          Chisinau|                       0|                   1|\n",
      "+------------------+------------------------+--------------------+\n",
      "only showing top 20 rows\n",
      "\n"
     ]
    }
   ],
   "source": [
    "#SELECT  c2.city, SUM(CASE WHEN c.active = 1 THEN 1 ELSE 0 END) active_customer, SUM(CASE WHEN c.active = 1 THEN 0 ELSE 1 END) not_active_customer\n",
    "#FROM\tpublic.customer c \n",
    "#\t\tJOIN public.address a ON c.address_id = a.address_id \n",
    "#\t\tJOIN public.city c2 ON a.city_id = c2.city_id \n",
    "#GROUP BY c2.city\n",
    "#ORDER BY not_active_customer DESC;\n",
    "from pyspark.sql.functions import when\n",
    "df = customer_df  \\\n",
    "    .join(address_df, customer_df.address_id==address_df.address_id) \\\n",
    "    .join(city_df, address_df.city_id==city_df.city_id) \\\n",
    "    .select(city_df.city, when(customer_df.active == 1, 1).otherwise(0).alias('active_customer'), when(customer_df.active == 1, 0).otherwise(1).alias('not_active_customer'))\n",
    "\n",
    "df_sum = df  \\\n",
    "        .groupBy(df.city) \\\n",
    "        .agg({\"active_customer\": \"sum\", \"not_active_customer\": \"sum\"})  \\\n",
    "        .orderBy(f.col(\"sum(not_active_customer)\").desc())\n",
    "    \n",
    "df_sum.show()    \n"
   ]
  },
  {
   "cell_type": "code",
   "execution_count": null,
   "metadata": {},
   "outputs": [],
   "source": []
  }
 ],
 "metadata": {
  "kernelspec": {
   "display_name": "Python 3 (ipykernel)",
   "language": "python",
   "name": "python3"
  },
  "language_info": {
   "codemirror_mode": {
    "name": "ipython",
    "version": 3
   },
   "file_extension": ".py",
   "mimetype": "text/x-python",
   "name": "python",
   "nbconvert_exporter": "python",
   "pygments_lexer": "ipython3",
   "version": "3.9.6"
  }
 },
 "nbformat": 4,
 "nbformat_minor": 4
}
